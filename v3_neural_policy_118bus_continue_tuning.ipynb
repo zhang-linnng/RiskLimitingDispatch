{
  "cells": [
    {
      "cell_type": "markdown",
      "metadata": {
        "id": "view-in-github",
        "colab_type": "text"
      },
      "source": [
        "<a href=\"https://colab.research.google.com/github/zhhhling/RiskLimitingDispatch/blob/main/v3_neural_policy_118bus_continue_tuning.ipynb\" target=\"_parent\"><img src=\"https://colab.research.google.com/assets/colab-badge.svg\" alt=\"Open In Colab\"/></a>"
      ]
    },
    {
      "cell_type": "code",
      "execution_count": 30,
      "metadata": {
        "colab": {
          "base_uri": "https://localhost:8080/"
        },
        "id": "w0rlzX1nxt5a",
        "outputId": "0ff6d331-b286-4b2d-ca20-eae768cd2a0a"
      },
      "outputs": [
        {
          "output_type": "stream",
          "name": "stdout",
          "text": [
            "Drive already mounted at /content/gdrive; to attempt to forcibly remount, call drive.mount(\"/content/gdrive\", force_remount=True).\n"
          ]
        }
      ],
      "source": [
        "from google.colab import drive\n",
        "drive.mount('/content/gdrive')"
      ]
    },
    {
      "cell_type": "code",
      "execution_count": 31,
      "metadata": {
        "colab": {
          "base_uri": "https://localhost:8080/"
        },
        "id": "t9808DiY0kL8",
        "outputId": "566d8dba-786f-4bd3-ff62-b3af08b335f5"
      },
      "outputs": [
        {
          "output_type": "stream",
          "name": "stdout",
          "text": [
            "Wed Aug 24 15:37:43 2022       \n",
            "+-----------------------------------------------------------------------------+\n",
            "| NVIDIA-SMI 460.32.03    Driver Version: 460.32.03    CUDA Version: 11.2     |\n",
            "|-------------------------------+----------------------+----------------------+\n",
            "| GPU  Name        Persistence-M| Bus-Id        Disp.A | Volatile Uncorr. ECC |\n",
            "| Fan  Temp  Perf  Pwr:Usage/Cap|         Memory-Usage | GPU-Util  Compute M. |\n",
            "|                               |                      |               MIG M. |\n",
            "|===============================+======================+======================|\n",
            "|   0  Tesla T4            Off  | 00000000:00:04.0 Off |                    0 |\n",
            "| N/A   38C    P8     9W /  70W |      3MiB / 15109MiB |      0%      Default |\n",
            "|                               |                      |                  N/A |\n",
            "+-------------------------------+----------------------+----------------------+\n",
            "                                                                               \n",
            "+-----------------------------------------------------------------------------+\n",
            "| Processes:                                                                  |\n",
            "|  GPU   GI   CI        PID   Type   Process name                  GPU Memory |\n",
            "|        ID   ID                                                   Usage      |\n",
            "|=============================================================================|\n",
            "|  No running processes found                                                 |\n",
            "+-----------------------------------------------------------------------------+\n"
          ]
        }
      ],
      "source": [
        "gpu_info = !nvidia-smi\n",
        "gpu_info = '\\n'.join(gpu_info)\n",
        "if gpu_info.find('failed') >= 0:\n",
        "  print('Not connected to a GPU')\n",
        "else:\n",
        "  print(gpu_info)"
      ]
    },
    {
      "cell_type": "markdown",
      "metadata": {
        "id": "HKcxSaDNxMwC"
      },
      "source": [
        "## utils.py"
      ]
    },
    {
      "cell_type": "code",
      "execution_count": 32,
      "metadata": {
        "id": "HyJgqkLV-StV"
      },
      "outputs": [],
      "source": [
        "import os, time\n",
        "import cvxpy as cp\n",
        "import random\n",
        "from numpy import savetxt\n",
        "import argparse\n",
        "import json\n",
        "import pandas as pd\n",
        "\n",
        "from matplotlib import pyplot as plt\n",
        "%matplotlib inline\n",
        "import numpy as np\n",
        "\n",
        "from torch.utils.data import Dataset\n",
        "from torch.utils.data import DataLoader, random_split\n",
        "import torch\n",
        "import torch.nn as nn\n",
        "import torch.nn.functional as F\n",
        "import torch.autograd as autograd\n",
        "import torch.optim as optim\n",
        "from torch.autograd import Variable"
      ]
    },
    {
      "cell_type": "code",
      "execution_count": 33,
      "metadata": {
        "id": "9nZ66qRH-br4"
      },
      "outputs": [],
      "source": [
        "def create_dir(PATH):\n",
        "    isExist = os.path.exists(PATH)\n",
        "\n",
        "    if not isExist:\n",
        "        # Create a new directory if it does not exist \n",
        "        os.makedirs(PATH)\n",
        "        print(\"The new directory is created!\")"
      ]
    },
    {
      "cell_type": "code",
      "execution_count": 34,
      "metadata": {
        "id": "IO0O-wQnK5cP"
      },
      "outputs": [],
      "source": [
        "# Evaluate using vector distance\n",
        "def measure_relative_distance(v1, v2):\n",
        "    '''\n",
        "        Note that v1 is the benchmark.\n",
        "        Norm is calculated along dimension/axis 1\n",
        "        and average is calculated along dimension/axis 0\n",
        "    '''\n",
        "    if len(v1.shape)==1 and len(v2.shape)==1:\n",
        "        distance = np.abs(v1-v2)/np.abs(v1)\n",
        "\n",
        "    if len(v1.shape)==2 and len(v2.shape)==2:\n",
        "        distance = np.linalg.norm(v1-v2, axis=1)/np.linalg.norm(v1, axis=1)\n",
        "\n",
        "    return np.mean(distance)"
      ]
    },
    {
      "cell_type": "code",
      "execution_count": 35,
      "metadata": {
        "id": "jMQYfC4f-oxO"
      },
      "outputs": [],
      "source": [
        "def identify_unique_lines(connections):\n",
        "    all_lines = {}\n",
        "    count = 0\n",
        "    for line in connections:\n",
        "        all_lines[count] = line\n",
        "        count+=1\n",
        "\n",
        "    # This code snippet only finds out the repeated lines with exactly the same order of nodes,\n",
        "    # but not deal with that [i,j] and [j,i] are also repeated lines\n",
        "    # By checking connections, there is no repeated lines like [i,j] and [j,i]\n",
        "    unique_lines = {}\n",
        "    for k, val in all_lines.items():\n",
        "        if val not in unique_lines.values():\n",
        "            unique_lines[k]=val\n",
        "    print('unique_lines length:', len(unique_lines))\n",
        "\n",
        "    repeated_lines = [[42, 49],[49, 54],[56, 59],[49, 66],[77, 80],[89, 90],[89, 92]]\n",
        "    # For example, [42, 49] appears twice\n",
        "    set1 = {}\n",
        "    set2 = {}\n",
        "    for k, val in all_lines.items():\n",
        "        if val in repeated_lines and k in unique_lines:\n",
        "            set1[val[0], val[1]] = k # Record the repeated lines when they first appear\n",
        "        if val in repeated_lines and k not in unique_lines:\n",
        "            set2[val[0], val[1]] = k # Record the repeated lines when they appear more than once\n",
        "\n",
        "    # print('set1:', len(set1))\n",
        "    # print('set2:', len(set2))\n",
        "\n",
        "    return unique_lines, set1, set2"
      ]
    },
    {
      "cell_type": "code",
      "execution_count": 36,
      "metadata": {
        "id": "fJTj8TkbzGDK"
      },
      "outputs": [],
      "source": [
        "def get_Y():\n",
        "    N = num_buses\n",
        "    Y = np.zeros((N, N))\n",
        "    for i in range(N):\n",
        "        for j in range(N):\n",
        "            if i==j : \n",
        "                Y[i,j] = sum(B[i,:])\n",
        "            else: \n",
        "                Y[i,j] = -B[i,j]\n",
        "\n",
        "    return Y[:,1:]\n",
        "\n",
        "def get_A():\n",
        "    N = num_buses\n",
        "    L = num_lines \n",
        "    A = np.zeros((L, N))\n",
        "\n",
        "    for i, line in enumerate(connections):\n",
        "        row = line[0]-1\n",
        "        col = line[1]-1\n",
        "        A[i, row] = B[row,col]\n",
        "        A[i, col] = -B[row,col]\n",
        "\n",
        "    return A[:,1:]\n"
      ]
    },
    {
      "cell_type": "markdown",
      "metadata": {
        "id": "VbSbZ9vPOd78"
      },
      "source": [
        "## models.py\n",
        "\n",
        "\n",
        "\n",
        "```\n",
        "ReLUNet\n",
        "tanhNet\n",
        "LReLUNet\n",
        "```\n",
        "\n"
      ]
    },
    {
      "cell_type": "code",
      "execution_count": 37,
      "metadata": {
        "id": "twY7ibN1ETn3"
      },
      "outputs": [],
      "source": [
        "class ActionNet(torch.nn.Module):\n",
        "    def __init__(self, D_in, H, D_out):\n",
        "        \"\"\"\n",
        "        In the constructor we instantiate two nn.Linear modules and assign them as\n",
        "        member variables.\n",
        "        \"\"\"\n",
        "        super(ActionNet, self).__init__()\n",
        "        self.linear1 = torch.nn.Linear(D_in, H)\n",
        "        self.linear2 = torch.nn.Linear(H, H)\n",
        "        self.linear3 = torch.nn.Linear(H, H)\n",
        "        self.linear4 = torch.nn.Linear(H, H)\n",
        "        self.linear5 = torch.nn.Linear(H, D_out)\n",
        "\n",
        "        # Define proportion or neurons to dropout\n",
        "        self.dropout = nn.Dropout(0.25)\n",
        "\n",
        "\n",
        "    def forward(self, input):\n",
        "        \"\"\"\n",
        "        In the forward function we accept a Tensor of input data and we must return\n",
        "        a Tensor of output data. We can use Modules defined in the constructor as\n",
        "        well as arbitrary operators on Tensors.\n",
        "        \"\"\"\n",
        "        # x = torch.tanh(self.linear1(input))\n",
        "        # x = torch.tanh(self.linear2(x))\n",
        "        # x = torch.tanh(self.linear3(x))\n",
        "        # x = torch.tanh(self.linear4(x))\n",
        "        # y_pred = torch.tanh(self.linear5(x))\n",
        "\n",
        "        x = F.relu(self.linear1(input))\n",
        "        x = F.relu(self.linear2(x))\n",
        "        x = self.dropout(x)\n",
        "        x = F.relu(self.linear3(x))\n",
        "        x = self.dropout(x)\n",
        "        x = F.relu(self.linear4(x))\n",
        "        x = self.dropout(x)\n",
        "        y_pred = F.relu(self.linear5(x))\n",
        "\n",
        "\n",
        "        return y_pred"
      ]
    },
    {
      "cell_type": "code",
      "execution_count": 38,
      "metadata": {
        "id": "SHmCwhBWkBA8"
      },
      "outputs": [],
      "source": [
        "class RewardNet(torch.nn.Module):\n",
        "    def __init__(self, D_in, H, D_out):\n",
        "        \"\"\"\n",
        "        In the constructor we instantiate two nn.Linear modules and assign them as\n",
        "        member variables.\n",
        "        \"\"\"\n",
        "        super(RewardNet, self).__init__()\n",
        "        self.linear1 = torch.nn.Linear(D_in, H)\n",
        "        self.linear2 = torch.nn.Linear(H, H)\n",
        "        self.linear3 = torch.nn.Linear(H, H)\n",
        "        # self.linear4 = torch.nn.Linear(H, H)\n",
        "        self.linear4 = torch.nn.Linear(H, D_out)\n",
        "\n",
        "        # Define proportion or neurons to dropout\n",
        "        self.dropout = nn.Dropout(0.25)\n",
        "\n",
        "    def forward(self, input):\n",
        "        \"\"\"\n",
        "        In the forward function we accept a Tensor of input data and we must return\n",
        "        a Tensor of output data. We can use Modules defined in the constructor as\n",
        "        well as arbitrary operators on Tensors.\n",
        "        \"\"\"\n",
        "        # x = torch.tanh(self.linear1(input))\n",
        "        # x = torch.tanh(self.linear2(x))\n",
        "        # x = torch.tanh(self.linear3(x))\n",
        "        # x = torch.tanh(self.linear4(x))\n",
        "        # y_pred = torch.tanh(self.linear5(x))\n",
        "\n",
        "        x = F.relu(self.linear1(input))\n",
        "        x = F.relu(self.linear2(x))\n",
        "        x = F.relu(self.linear3(x))\n",
        "        y_pred = torch.tanh(self.linear4(x))\n",
        "\n",
        "        # x = self.linear1(input)\n",
        "        # x = self.linear2(x)\n",
        "        # x = self.linear3(x)\n",
        "        # y_pred = torch.tanh(self.linear4(x))\n",
        "\n",
        "        return y_pred"
      ]
    },
    {
      "cell_type": "code",
      "execution_count": 39,
      "metadata": {
        "id": "NOGh2xKWyBfl"
      },
      "outputs": [],
      "source": [
        "class TrainDataset(Dataset):\n",
        "    def __init__(self, samples):\n",
        "        self.samples = samples\n",
        "\t# must override two of the subclass functions:\n",
        "    def __len__(self):\n",
        "        # return len(self.samples)\n",
        "        return self.samples.shape[0]\n",
        "\n",
        "    def __getitem__(self, idx):\n",
        "        # return self.samples[idx]\n",
        "        return self.samples[idx,:]"
      ]
    },
    {
      "cell_type": "markdown",
      "metadata": {
        "id": "lZKjxnPquWdw"
      },
      "source": [
        "## gauge.py\n"
      ]
    },
    {
      "cell_type": "code",
      "execution_count": 40,
      "metadata": {
        "id": "hrwMXMtu-yYq"
      },
      "outputs": [],
      "source": [
        "def gauge_function(V, G, H):\n",
        "    \"\"\"\n",
        "    The gauge function of the vector z w.r.t. the set P\n",
        "    is given by the following code.\n",
        "\n",
        "    V can be batched, for example, r-dimensional and batch size of K, then shape(V) = (r, K)\n",
        "    Note that the second dimension is the batch.\n",
        "\n",
        "    P is defined by {v: G@v <= Hj} = {v: g_i^T@v <= Hj_i, i = 1, ..., q}\n",
        "    shape(G) = (q, r), shape(Hj) = (q, 1), shape(H) = (q, K)\n",
        "    P must contain the origin in its interior.\n",
        "    \n",
        "    \"\"\"\n",
        "    # return torch.max(G@V/H,dim = 0).values # shape(output) = (1, K)\n",
        "\n",
        "    # torch.div() for element-wide division\n",
        "    return torch.max(torch.div(G@V, H),dim = 0).values # shape(output) = (1, K)\n",
        "\n",
        "def gauge_map(Z, G, H):\n",
        "    \"\"\"\n",
        "    For any Z \\belongsto B_infinity, the gauge map from B_infinity to the set P\n",
        "    defined by {v: G@v <= h} is given by the following code.\n",
        "    \n",
        "    Z can be batched, for example, r-dimensional and batch size of K, then shape(V) = (r, K)\n",
        "    Note that the second dimension is the batch.\n",
        "\n",
        "    P is defined by {v: G@v <= Hj} = {v: g_i^T@v <= Hj_i, i = 1, ..., q}\n",
        "    shape(G) = (q, r), shape(Hj) = (q, 1), shape(H) = (q, K)\n",
        "    P must contain the origin in its interior.\n",
        "    \"\"\"\n",
        "\n",
        "    gamma_dest = gauge_function(Z, G, H)# shape = (1, K)\n",
        "    # print('gamma_dest:', gamma_dest)\n",
        "    gamma_start = torch.linalg.norm(Z, ord = np.inf, dim=0) # shape(1, K)\n",
        "\n",
        "    scaling_mat = torch.diag(gamma_start/gamma_dest) # shape = (K, K)\n",
        "\n",
        "    return Z@scaling_mat # shape = (r, K), this is the new point in P"
      ]
    },
    {
      "cell_type": "markdown",
      "source": [
        "## Paths are defined here"
      ],
      "metadata": {
        "id": "9TwffwhaTOth"
      }
    },
    {
      "cell_type": "code",
      "source": [
        "params_path = './gdrive/MyDrive/Inbox/rld_118bus/neural_policy/params/'\n",
        "\n",
        "saved_path = './gdrive/MyDrive/Inbox/rld_118bus/neural_policy/results3/'\n",
        "isExist = os.path.exists(saved_path)\n",
        "\n",
        "if not isExist:\n",
        "    # Create a new directory if it does not exist \n",
        "    os.makedirs(saved_path)\n",
        "\n",
        "data_path = './gdrive/MyDrive/Inbox/rld_118bus/neural_policy/data/'\n",
        "isExist = os.path.exists(data_path)\n",
        "\n",
        "if not isExist:\n",
        "    # Create a new directory if it does not exist \n",
        "    os.makedirs(data_path)"
      ],
      "metadata": {
        "id": "FLnvi6UvTOQY"
      },
      "execution_count": 41,
      "outputs": []
    },
    {
      "cell_type": "markdown",
      "metadata": {
        "id": "2DO_DOrNOnRP"
      },
      "source": [
        "## Import 118bus system (118bus.py)\n",
        "## Define paths\n",
        "\n",
        "\n",
        "\n",
        "```\n",
        "pretrained path\n",
        "saved path\n",
        "```\n",
        "\n"
      ]
    },
    {
      "cell_type": "code",
      "execution_count": 42,
      "metadata": {
        "colab": {
          "base_uri": "https://localhost:8080/",
          "height": 632
        },
        "id": "6h_21Sxzydc9",
        "outputId": "b4ae5c46-9cdc-404e-c0bc-cd133f51b5fa"
      },
      "outputs": [
        {
          "output_type": "stream",
          "name": "stdout",
          "text": [
            "num_buses: 118\n",
            "num_lines: 186\n",
            "num_gens: 54\n",
            "max of x: 0.411\n",
            "min of x: 0.004\n",
            "max of b: 25.0\n",
            "min of b: 0.24330900243309003\n",
            "len of connections: 186\n",
            "unique_lines length: 179\n",
            "G shape: (606, 117)\n",
            "PD:\n"
          ]
        },
        {
          "output_type": "display_data",
          "data": {
            "text/plain": [
              "        0\n",
              "0    2.55\n",
              "1    1.00\n",
              "2    1.95\n",
              "3    1.95\n",
              "4    0.00\n",
              "..    ...\n",
              "113  0.40\n",
              "114  1.10\n",
              "115  9.20\n",
              "116  1.00\n",
              "117  1.65\n",
              "\n",
              "[118 rows x 1 columns]"
            ],
            "text/html": [
              "\n",
              "  <div id=\"df-50af18df-9048-4e69-a0c9-4c6e36d31698\">\n",
              "    <div class=\"colab-df-container\">\n",
              "      <div>\n",
              "<style scoped>\n",
              "    .dataframe tbody tr th:only-of-type {\n",
              "        vertical-align: middle;\n",
              "    }\n",
              "\n",
              "    .dataframe tbody tr th {\n",
              "        vertical-align: top;\n",
              "    }\n",
              "\n",
              "    .dataframe thead th {\n",
              "        text-align: right;\n",
              "    }\n",
              "</style>\n",
              "<table border=\"1\" class=\"dataframe\">\n",
              "  <thead>\n",
              "    <tr style=\"text-align: right;\">\n",
              "      <th></th>\n",
              "      <th>0</th>\n",
              "    </tr>\n",
              "  </thead>\n",
              "  <tbody>\n",
              "    <tr>\n",
              "      <th>0</th>\n",
              "      <td>2.55</td>\n",
              "    </tr>\n",
              "    <tr>\n",
              "      <th>1</th>\n",
              "      <td>1.00</td>\n",
              "    </tr>\n",
              "    <tr>\n",
              "      <th>2</th>\n",
              "      <td>1.95</td>\n",
              "    </tr>\n",
              "    <tr>\n",
              "      <th>3</th>\n",
              "      <td>1.95</td>\n",
              "    </tr>\n",
              "    <tr>\n",
              "      <th>4</th>\n",
              "      <td>0.00</td>\n",
              "    </tr>\n",
              "    <tr>\n",
              "      <th>...</th>\n",
              "      <td>...</td>\n",
              "    </tr>\n",
              "    <tr>\n",
              "      <th>113</th>\n",
              "      <td>0.40</td>\n",
              "    </tr>\n",
              "    <tr>\n",
              "      <th>114</th>\n",
              "      <td>1.10</td>\n",
              "    </tr>\n",
              "    <tr>\n",
              "      <th>115</th>\n",
              "      <td>9.20</td>\n",
              "    </tr>\n",
              "    <tr>\n",
              "      <th>116</th>\n",
              "      <td>1.00</td>\n",
              "    </tr>\n",
              "    <tr>\n",
              "      <th>117</th>\n",
              "      <td>1.65</td>\n",
              "    </tr>\n",
              "  </tbody>\n",
              "</table>\n",
              "<p>118 rows × 1 columns</p>\n",
              "</div>\n",
              "      <button class=\"colab-df-convert\" onclick=\"convertToInteractive('df-50af18df-9048-4e69-a0c9-4c6e36d31698')\"\n",
              "              title=\"Convert this dataframe to an interactive table.\"\n",
              "              style=\"display:none;\">\n",
              "        \n",
              "  <svg xmlns=\"http://www.w3.org/2000/svg\" height=\"24px\"viewBox=\"0 0 24 24\"\n",
              "       width=\"24px\">\n",
              "    <path d=\"M0 0h24v24H0V0z\" fill=\"none\"/>\n",
              "    <path d=\"M18.56 5.44l.94 2.06.94-2.06 2.06-.94-2.06-.94-.94-2.06-.94 2.06-2.06.94zm-11 1L8.5 8.5l.94-2.06 2.06-.94-2.06-.94L8.5 2.5l-.94 2.06-2.06.94zm10 10l.94 2.06.94-2.06 2.06-.94-2.06-.94-.94-2.06-.94 2.06-2.06.94z\"/><path d=\"M17.41 7.96l-1.37-1.37c-.4-.4-.92-.59-1.43-.59-.52 0-1.04.2-1.43.59L10.3 9.45l-7.72 7.72c-.78.78-.78 2.05 0 2.83L4 21.41c.39.39.9.59 1.41.59.51 0 1.02-.2 1.41-.59l7.78-7.78 2.81-2.81c.8-.78.8-2.07 0-2.86zM5.41 20L4 18.59l7.72-7.72 1.47 1.35L5.41 20z\"/>\n",
              "  </svg>\n",
              "      </button>\n",
              "      \n",
              "  <style>\n",
              "    .colab-df-container {\n",
              "      display:flex;\n",
              "      flex-wrap:wrap;\n",
              "      gap: 12px;\n",
              "    }\n",
              "\n",
              "    .colab-df-convert {\n",
              "      background-color: #E8F0FE;\n",
              "      border: none;\n",
              "      border-radius: 50%;\n",
              "      cursor: pointer;\n",
              "      display: none;\n",
              "      fill: #1967D2;\n",
              "      height: 32px;\n",
              "      padding: 0 0 0 0;\n",
              "      width: 32px;\n",
              "    }\n",
              "\n",
              "    .colab-df-convert:hover {\n",
              "      background-color: #E2EBFA;\n",
              "      box-shadow: 0px 1px 2px rgba(60, 64, 67, 0.3), 0px 1px 3px 1px rgba(60, 64, 67, 0.15);\n",
              "      fill: #174EA6;\n",
              "    }\n",
              "\n",
              "    [theme=dark] .colab-df-convert {\n",
              "      background-color: #3B4455;\n",
              "      fill: #D2E3FC;\n",
              "    }\n",
              "\n",
              "    [theme=dark] .colab-df-convert:hover {\n",
              "      background-color: #434B5C;\n",
              "      box-shadow: 0px 1px 3px 1px rgba(0, 0, 0, 0.15);\n",
              "      filter: drop-shadow(0px 1px 2px rgba(0, 0, 0, 0.3));\n",
              "      fill: #FFFFFF;\n",
              "    }\n",
              "  </style>\n",
              "\n",
              "      <script>\n",
              "        const buttonEl =\n",
              "          document.querySelector('#df-50af18df-9048-4e69-a0c9-4c6e36d31698 button.colab-df-convert');\n",
              "        buttonEl.style.display =\n",
              "          google.colab.kernel.accessAllowed ? 'block' : 'none';\n",
              "\n",
              "        async function convertToInteractive(key) {\n",
              "          const element = document.querySelector('#df-50af18df-9048-4e69-a0c9-4c6e36d31698');\n",
              "          const dataTable =\n",
              "            await google.colab.kernel.invokeFunction('convertToInteractive',\n",
              "                                                     [key], {});\n",
              "          if (!dataTable) return;\n",
              "\n",
              "          const docLinkHtml = 'Like what you see? Visit the ' +\n",
              "            '<a target=\"_blank\" href=https://colab.research.google.com/notebooks/data_table.ipynb>data table notebook</a>'\n",
              "            + ' to learn more about interactive tables.';\n",
              "          element.innerHTML = '';\n",
              "          dataTable['output_type'] = 'display_data';\n",
              "          await google.colab.output.renderOutput(dataTable, element);\n",
              "          const docLink = document.createElement('div');\n",
              "          docLink.innerHTML = docLinkHtml;\n",
              "          element.appendChild(docLink);\n",
              "        }\n",
              "      </script>\n",
              "    </div>\n",
              "  </div>\n",
              "  "
            ]
          },
          "metadata": {}
        },
        {
          "output_type": "stream",
          "name": "stdout",
          "text": [
            "Total PD: 212.10000000000005\n"
          ]
        }
      ],
      "source": [
        "bus_data_fname = '118bus_BusData.csv'\n",
        "gen_data_fname = '118bus_GenData.csv'\n",
        "\n",
        "branch_data_fname = '118bus_BranchData.csv'\n",
        "cost_data_fname = '118bus_CostData.csv'\n",
        "\n",
        "bus_data_df = pd.read_csv(params_path+bus_data_fname,header=None)\n",
        "gen_data_df = pd.read_csv(params_path+gen_data_fname,header=None)\n",
        "branch_data_df = pd.read_csv(params_path+branch_data_fname,header=None)\n",
        "cost_data_df = pd.read_csv(params_path+cost_data_fname,header=None)\n",
        "\n",
        "# display(bus_data_df)\n",
        "# display(gen_data_df)\n",
        "# display(branch_data_df)\n",
        "# display(cost_data_df)\n",
        "\n",
        "num_buses = bus_data_df.shape[0]\n",
        "num_lines = branch_data_df.shape[0]\n",
        "num_gens = gen_data_df.shape[0]\n",
        "\n",
        "print('num_buses:', num_buses)\n",
        "print('num_lines:', num_lines)\n",
        "print('num_gens:', num_gens)\n",
        "\n",
        "bus_data = bus_data_df.to_numpy()\n",
        "gen_data = gen_data_df.to_numpy()\n",
        "branch_data = branch_data_df.to_numpy()\n",
        "cost_data = cost_data_df.to_numpy()\n",
        "\n",
        "x = branch_data[:,3]\n",
        "# print('x:')\n",
        "# display(pd.DataFrame(x))\n",
        "print('max of x:', max(x))\n",
        "print('min of x:', min(x))\n",
        "\n",
        "\n",
        "b = 1/x\n",
        "# print('b:')\n",
        "Z0 = 10\n",
        "b = b/Z0\n",
        "# display(pd.DataFrame(b))\n",
        "print('max of b:', max(b))\n",
        "print('min of b:', min(b))\n",
        "\n",
        "connections = []\n",
        "branches = branch_data[:,:2]\n",
        "for i in range(branches.shape[0]):\n",
        "\t\tconnections.append([int(branches[i,0]),int(branches[i,1])])\n",
        "print('len of connections:', len(connections))\n",
        "\n",
        "unique_lines, set1, set2 = identify_unique_lines(connections)\n",
        "# print('set1:', set1)\n",
        "# print('set2:', set2)\n",
        "\n",
        "B = np.zeros((num_buses, num_buses))\n",
        "# for i, line in enumerate(connections):\n",
        "for k, line in unique_lines.items():\n",
        "    row = line[0]-1\n",
        "    col = line[1]-1\n",
        "    B[row, col] = b[k]\n",
        "    B[col, row] = b[k]\n",
        "\n",
        "# display(pd.DataFrame(B).head())\n",
        "\n",
        "Yrr = get_Y()\n",
        "Arr = get_A()\n",
        "\n",
        "N = num_buses\n",
        "L = num_lines \n",
        "\n",
        "G = np.block([\n",
        "              [Arr],\n",
        "              [-Arr],\n",
        "              [np.eye(N-1)],\n",
        "              [-np.eye(N-1)]\n",
        "])\n",
        "print('G shape:', G.shape)\n",
        "\n",
        "ymax = 2\n",
        "ymin = 0\n",
        "Fmax = 2\n",
        "\n",
        "PD = bus_data[:,2]/20\n",
        "print('PD:')\n",
        "display(pd.DataFrame(PD))\n",
        "# PD_data = PD.to_numpy()\n",
        "PD_data = PD\n",
        "print('Total PD:', sum(PD))\n",
        "\n",
        "nominal_PD_data = PD_data.reshape(1,-1)\n",
        "\n"
      ]
    },
    {
      "cell_type": "markdown",
      "metadata": {
        "id": "427rXMAiOWwk"
      },
      "source": [
        "## Load cost coefficients"
      ]
    },
    {
      "cell_type": "code",
      "execution_count": 43,
      "metadata": {
        "id": "07o2B5Ua8ZMV"
      },
      "outputs": [],
      "source": [
        "def load_cost_coeff():    \n",
        "    quad_cost_coeff = np.load(params_path+'quad_cost_coeff.npy')\n",
        "    linear_cost_coeff = np.load(params_path+'linear_cost_coeff.npy')\n",
        "    da_cost_coeff = np.load(params_path+'da_cost_coeff.npy')\n",
        "\n",
        "    return quad_cost_coeff, linear_cost_coeff, da_cost_coeff"
      ]
    },
    {
      "cell_type": "code",
      "execution_count": 44,
      "metadata": {
        "colab": {
          "base_uri": "https://localhost:8080/"
        },
        "id": "BesraA9cqckE",
        "outputId": "890b6853-9239-49ad-d0a9-2f0a75859e0f"
      },
      "outputs": [
        {
          "output_type": "stream",
          "name": "stdout",
          "text": [
            "quad_cost_Coeff shape: (118, 118)\n",
            "linear_cost_Coeff shape: (118, 1)\n",
            "da_cost_Coeff shape: (118, 1)\n"
          ]
        }
      ],
      "source": [
        "quad_cost_coeff, linear_cost_coeff, da_cost_coeff = load_cost_coeff() \n",
        "\n",
        "quad_cost_Coeff = np.diag(quad_cost_coeff)\n",
        "linear_cost_Coeff = linear_cost_coeff.reshape(-1, 1)\n",
        "\n",
        "da_cost_Coeff = da_cost_coeff.reshape(-1,1)\n",
        "\n",
        "print('quad_cost_Coeff shape:', quad_cost_Coeff.shape)\n",
        "print('linear_cost_Coeff shape:', linear_cost_Coeff.shape)\n",
        "print('da_cost_Coeff shape:', da_cost_Coeff.shape)\n"
      ]
    },
    {
      "cell_type": "markdown",
      "metadata": {
        "id": "NrOjrfqq7UkZ"
      },
      "source": [
        "## gauge mapping"
      ]
    },
    {
      "cell_type": "code",
      "execution_count": 45,
      "metadata": {
        "colab": {
          "base_uri": "https://localhost:8080/"
        },
        "id": "cjv_iwRX7Wub",
        "outputId": "ce51df61-1a04-4777-a295-319a207c45ad"
      },
      "outputs": [
        {
          "output_type": "stream",
          "name": "stdout",
          "text": [
            "G shape: (606, 117)\n"
          ]
        }
      ],
      "source": [
        "G = np.block([\n",
        "              [Arr],\n",
        "              [-Arr],\n",
        "              [np.eye(N-1)],\n",
        "              [-np.eye(N-1)]\n",
        "])\n",
        "print('G shape:', G.shape)"
      ]
    },
    {
      "cell_type": "markdown",
      "metadata": {
        "id": "G6wn12IWHT66"
      },
      "source": [
        "## Get train dataset prepared"
      ]
    },
    {
      "cell_type": "code",
      "execution_count": 46,
      "metadata": {
        "id": "auSlV4P4I7go"
      },
      "outputs": [],
      "source": [
        "# train_dataset = np.concatenate([a_input, a_target, q_input, lambda_data, nu_data], axis=-1)\n",
        "DataFlag = False\n",
        "if DataFlag == True:\n",
        "\n",
        "    num_points = 50000\n",
        "    forecasts = nominal_PD_data.reshape(1,-1)\n",
        "\n",
        "    # Pattern 2: folowing the trend of nominal load\n",
        "    ratio = 0.05\n",
        "    lb = np.clip((1-ratio)*forecasts, a_min=0., a_max=None)\n",
        "    ub = (1+ratio)*forecasts\n",
        "    # ub = np.maximum( (1+ratio)*forecasts, 0.05*np.ones_like(forecasts)) # if the nominal load is zero, then sample from [0, 0.1]\n",
        "\n",
        "    train_dataset = np.random.uniform(lb, ub, (num_points, N))\n",
        "    test_dataset = np.random.uniform(lb, ub, (100, N))\n",
        "\n",
        "    np.save(data_path+'train_set.npy', train_dataset)\n",
        "    np.save(data_path+'test_set.npy', test_dataset)\n",
        "\n",
        "else:\n",
        "    train_dataset = np.load(data_path+'train_set.npy')\n",
        "    test_dataset = np.load(data_path+'test_set.npy')\n",
        "\n",
        "    test_dataset = test_dataset[:100,:]\n",
        "\n",
        "TrainSet = TrainDataset(train_dataset)\n",
        "TestSet = TrainDataset(test_dataset)"
      ]
    },
    {
      "cell_type": "markdown",
      "metadata": {
        "id": "L7vZf398ADpM"
      },
      "source": [
        "## Train action and reward nets together"
      ]
    },
    {
      "cell_type": "code",
      "execution_count": 47,
      "metadata": {
        "id": "DSP37UM2a6cA"
      },
      "outputs": [],
      "source": [
        "def train(dataset, num_epochs, num_sce, batch_size, yplot = 'plain'):\n",
        "\n",
        "    def plot_train_loss(train_hist, epoch):\n",
        "        print('len:', len(train_hist['train_losses']))\n",
        "\n",
        "        fig = plt.figure(figsize=(10,10))\n",
        "        plt.ticklabel_format(style='plain', scilimits=(-3, 3), useOffset=False)\n",
        "        ax = fig.add_subplot(1, 1, 1)\n",
        "        if yplot == 'log10':\n",
        "            ax.plot(range(len(train_hist['train_losses'])), np.log10(train_hist['train_losses']), label='train loss')\n",
        "            ax.set_ylabel('log10(train loss)',fontsize=20)\n",
        "        elif yplot == 'plain':\n",
        "            ax.plot(range(len(train_hist['train_losses'])), train_hist['train_losses'], label='train loss')\n",
        "            ax.set_ylabel('train loss',fontsize=20)\n",
        "        ax.set_xlabel('training epochs',fontsize=20)\n",
        "        plt.xticks(fontsize=20)\n",
        "        plt.yticks(fontsize=20)\n",
        "        plt.savefig(saved_path+str(epoch)+'train_losses.png')\n",
        "\n",
        "\n",
        "    # Set learning rates\n",
        "    lr = 0.001\n",
        "\n",
        "    # Build models or load models\n",
        "    # action_net, reward_net = load_saved_models()\n",
        "    action_net = ActionNet(N, 100, N)\n",
        "    reward_net = RewardNet(N, 100, N-1)\n",
        "    \n",
        "\n",
        "    # Configure optimizers\n",
        "    action_optim = optim.Adam(action_net.parameters(), lr=lr, betas=(0.5, 0.999))\n",
        "    reward_optim = optim.Adam(reward_net.parameters(), lr=lr, betas=(0.5, 0.999))\n",
        "\n",
        "\n",
        "    # Constant Parameters\n",
        "    G_ts = torch.tensor(G).float()\n",
        "    Yrr_ts = torch.tensor(Yrr).float()\n",
        "    Arr_ts = torch.tensor(Arr).float()\n",
        "    # C1_ts = torch.tensor(quad_cost_Coeff).float()\n",
        "    C2_ts = torch.tensor(linear_cost_Coeff).float()\n",
        "    da_cost_ts = torch.tensor(da_cost_Coeff).float()\n",
        "\n",
        "    train_loader = DataLoader(dataset, batch_size=batch_size, shuffle=True)\n",
        "\n",
        "    train_hist = {}\n",
        "    train_hist['train_losses'] = []\n",
        "    train_hist['per_epoch_time'] = []\n",
        "    train_hist['total_time'] = []\n",
        "    num_iter = 0\n",
        "\n",
        "    print('Training starts!')\n",
        "    start_time = time.time()\n",
        "\n",
        "    for epoch in range(num_epochs):\n",
        "        train_losses = []\n",
        "        epoch_start_time = time.time()\n",
        "\n",
        "        for batch in train_loader:\n",
        "\n",
        "             ## zero grad\n",
        "            action_net.zero_grad()\n",
        "            reward_net.zero_grad()\n",
        "\n",
        "            ## get a batch of data\n",
        "            input = batch.float()\n",
        "            x = action_net(input)\n",
        "            net_input = input-x\n",
        "            \n",
        "            Q_pred = 0.\n",
        "            for m in range(num_sce):\n",
        "                q_input = net_input + 0.5*torch.randn_like(net_input)\n",
        "            \n",
        "                pred = reward_net(q_input)\n",
        "\n",
        "                h_batch = torch.cat([\n",
        "                                    Fmax*torch.ones(L, batch_size),\n",
        "                                    Fmax*torch.ones(L, batch_size),\n",
        "                                    np.pi*torch.ones(N-1, batch_size),\n",
        "                                    np.pi*torch.ones(N-1, batch_size)\n",
        "                                    ],dim=0)\n",
        "\n",
        "                h_batch_ts = torch.tensor(h_batch).float()\n",
        "                \n",
        "                ctr_ts = torch.zeros((num_buses-1, batch_size))\n",
        "                assert torch.max(G_ts@ctr_ts - h_batch_ts)< 0.0, \"Caution: v0 is not a feasible point.\"\n",
        "\n",
        "                # Use ctr_ts to shift the feasible set Gv<=H\n",
        "                h_shift = h_batch_ts - G_ts@ctr_ts\n",
        "                assert torch.min(h_shift) > 0.0, \"Caution: origin is not an interior point\"\n",
        "\n",
        "                # Use gauge mapping to transform output to feas_output\n",
        "                feas_pred = gauge_map(pred.T, G_ts, h_shift) + ctr_ts\n",
        "\n",
        "                # Construct cost function\n",
        "                y = F.relu(Yrr_ts@feas_pred + net_input.T) # (N, batch_size)\n",
        "                # quad_cost = torch.diagonal(y.T@C1_ts@y)\n",
        "                linear_cost = y.T@C2_ts\n",
        "                # rt_cost += quad_cost + linear_cost.flatten()\n",
        "                Q_pred += linear_cost.flatten()\n",
        "\n",
        "            Q_pred = Q_pred/num_sce\n",
        "            da_cost = x@da_cost_ts\n",
        "            total_cost = Q_pred + da_cost.flatten()\n",
        "\n",
        "            train_loss = torch.mean(total_cost) \n",
        "\n",
        "            train_loss.backward(retain_graph=True)\n",
        "            action_optim.step()\n",
        "            reward_optim.step()\n",
        "\n",
        "            train_losses.append(train_loss.item())\n",
        "\n",
        "\n",
        "            num_iter += 1\n",
        "\n",
        "            if num_iter % 10000 == 0:\n",
        "                print('[%d/%d], loss: %.5f' % ((epoch + 1), \n",
        "                    (num_iter + 1), \n",
        "                    torch.FloatTensor(train_losses).mean().item()))\n",
        "                \n",
        "        epoch_end_time = time.time()\n",
        "        per_epoch_time = epoch_end_time - epoch_start_time\n",
        "\n",
        "        loss_value = torch.mean(torch.FloatTensor(train_losses)).item()\n",
        "\n",
        "        train_hist['train_losses'].append(round(loss_value, 4))\n",
        "        train_hist['per_epoch_time'].append(per_epoch_time)\n",
        "                \n",
        "        if epoch > 0 :\n",
        "            if epoch % 200 == 0 or epoch == num_epochs-1:\n",
        "\n",
        "                torch.save(action_net.state_dict(), saved_path+'trained_action_net.pt')\n",
        "\n",
        "                torch.save(reward_net.state_dict(), saved_path+'trained_reward_net.pt')\n",
        "\n",
        "                plot_train_loss(train_hist, epoch)\n",
        "                \n",
        "    end_time = time.time()\n",
        "    total_time = end_time - start_time\n",
        "    train_hist['total_time'].append(total_time)\n",
        "\n",
        "    print(\"Avg per epoch time: %.2f, total %d epochs time: %.2f\" % \\\n",
        "        (torch.mean(torch.FloatTensor(train_hist['per_epoch_time'])), num_epochs, total_time))\n",
        "    print(\"Training finish!\")\n",
        "\n",
        "    print(len(train_hist['train_losses']))\n",
        "\n",
        "    # End training loop\n",
        "    return action_net, reward_net\n"
      ]
    },
    {
      "cell_type": "code",
      "execution_count": 48,
      "metadata": {
        "id": "5KVSliTcveE3"
      },
      "outputs": [],
      "source": [
        "def load_saved_models():\n",
        "    action_net = ActionNet(N, 100, N)\n",
        "    action_net.load_state_dict(torch.load(saved_path+'trained_action_net.pt'))\n",
        "    action_net.eval()\n",
        "\n",
        "    reward_net = RewardNet(N, 100, N-1)\n",
        "    reward_net.load_state_dict(torch.load(saved_path+'trained_reward_net.pt'))\n",
        "    reward_net.eval()\n",
        "\n",
        "    action_net.train(False)\n",
        "    reward_net.train(False)\n",
        "\n",
        "    return action_net, reward_net"
      ]
    },
    {
      "cell_type": "code",
      "source": [
        "saved_path"
      ],
      "metadata": {
        "colab": {
          "base_uri": "https://localhost:8080/",
          "height": 35
        },
        "id": "0U3UeuFIWqW6",
        "outputId": "761f33a7-37b5-45d8-e265-31ce4deaca23"
      },
      "execution_count": 49,
      "outputs": [
        {
          "output_type": "execute_result",
          "data": {
            "text/plain": [
              "'./gdrive/MyDrive/Inbox/rld_118bus/neural_policy/results3/'"
            ],
            "application/vnd.google.colaboratory.intrinsic+json": {
              "type": "string"
            }
          },
          "metadata": {},
          "execution_count": 49
        }
      ]
    },
    {
      "cell_type": "code",
      "execution_count": 50,
      "metadata": {
        "id": "59Lovwg-iBQR"
      },
      "outputs": [],
      "source": [
        "TrainFlag = False\n",
        "if TrainFlag:\n",
        "    random.seed(0)\n",
        "    trained_action_net, trained_reward_net = train(TrainSet, num_epochs=600, \n",
        "                                               num_sce=50, batch_size=100, \n",
        "                                               yplot = 'plain')\n",
        "    \n",
        "else:\n",
        "    trained_action_net, trained_reward_net = load_saved_models()"
      ]
    },
    {
      "cell_type": "markdown",
      "metadata": {
        "id": "baHkD8spvrP9"
      },
      "source": [
        "## Compare performance of trained action net against benchmark\n"
      ]
    },
    {
      "cell_type": "code",
      "execution_count": 51,
      "metadata": {
        "id": "LjRpRs17v9r8"
      },
      "outputs": [],
      "source": [
        "def test_neural_policy(dataset, num_sce):\n",
        "\n",
        "    action_net, reward_net = load_saved_models()\n",
        "\n",
        "    # Constant Parameters\n",
        "    G_ts = torch.tensor(G).float()\n",
        "    Yrr_ts = torch.tensor(Yrr).float()\n",
        "    Arr_ts = torch.tensor(Arr).float()\n",
        "    # C1_ts = torch.tensor(quad_cost_Coeff).float()\n",
        "    C2_ts = torch.tensor(linear_cost_Coeff).float()\n",
        "    da_cost_ts = torch.tensor(da_cost_Coeff).float()\n",
        "\n",
        "    batch_size = dataset.shape[0]\n",
        "\n",
        "    with torch.no_grad():\n",
        "\n",
        "        input = torch.tensor(dataset).float()\n",
        "\n",
        "        x = action_net(input)\n",
        "        \n",
        "        net_input = input-x\n",
        "            \n",
        "        Q_pred = 0.\n",
        "        y_pred = torch.zeros_like(x)\n",
        "        for m in range(num_sce):\n",
        "            q_input = net_input + 0.5*torch.randn_like(net_input)\n",
        "        \n",
        "            pred = reward_net(q_input)\n",
        "\n",
        "            h_batch = torch.cat([\n",
        "                                Fmax*torch.ones(L, batch_size),\n",
        "                                Fmax*torch.ones(L, batch_size),\n",
        "                                np.pi*torch.ones(N-1, batch_size),\n",
        "                                np.pi*torch.ones(N-1, batch_size)\n",
        "                                ],dim=0)\n",
        "\n",
        "            h_batch_ts = torch.tensor(h_batch).float()\n",
        "            \n",
        "            ctr_ts = torch.zeros((num_buses-1, batch_size))\n",
        "            assert torch.max(G_ts@ctr_ts - h_batch_ts)< 0.0, \"Caution: v0 is not a feasible point.\"\n",
        "\n",
        "            # Use ctr_ts to shift the feasible set Gv<=H\n",
        "            h_shift = h_batch_ts - G_ts@ctr_ts\n",
        "            assert torch.min(h_shift) > 0.0, \"Caution: origin is not an interior point\"\n",
        "\n",
        "            # Use gauge mapping to transform output to feas_output\n",
        "            feas_pred = gauge_map(pred.T, G_ts, h_shift) + ctr_ts\n",
        "\n",
        "            # Construct cost function\n",
        "            y = F.relu(Yrr_ts@feas_pred + net_input.T) # (N, batch_size)\n",
        "            # quad_cost = torch.diagonal(y.T@C1_ts@y)\n",
        "            linear_cost = y.T@C2_ts\n",
        "            # rt_cost += quad_cost + linear_cost.flatten()\n",
        "            Q_pred += linear_cost.flatten()\n",
        "\n",
        "            y_pred+= y.T\n",
        "\n",
        "        Q_pred = Q_pred/num_sce\n",
        "        da_cost = x@da_cost_ts\n",
        "        total_cost = Q_pred + da_cost.flatten()\n",
        "\n",
        "        y_pred = y_pred/num_sce\n",
        "\n",
        "        x_val = x.detach().numpy()\n",
        "        total_cost_val = total_cost.detach().numpy().reshape(-1,1)\n",
        "        Q_val = Q_pred.detach().numpy().reshape(-1,1)\n",
        "\n",
        "        y_val = y_pred.detach().numpy()\n",
        "\n",
        "        return x_val, total_cost_val, Q_val, y_val\n"
      ]
    },
    {
      "cell_type": "code",
      "execution_count": 52,
      "metadata": {
        "colab": {
          "base_uri": "https://localhost:8080/"
        },
        "id": "Q1RYZzlhxI4v",
        "outputId": "f307f505-3765-43d4-c2b0-e3470892ff6e"
      },
      "outputs": [
        {
          "output_type": "stream",
          "name": "stdout",
          "text": [
            "x_pred: (100, 118)\n",
            "J_pred: (100, 1)\n",
            "Q_pred: (100, 1)\n",
            "y_pred: (100, 118)\n"
          ]
        },
        {
          "output_type": "stream",
          "name": "stderr",
          "text": [
            "/usr/local/lib/python3.7/dist-packages/ipykernel_launcher.py:37: UserWarning: To copy construct from a tensor, it is recommended to use sourceTensor.clone().detach() or sourceTensor.clone().detach().requires_grad_(True), rather than torch.tensor(sourceTensor).\n"
          ]
        }
      ],
      "source": [
        "x_pred, J_pred, Q_pred, y_pred = test_neural_policy(test_dataset, num_sce=100)\n",
        "print('x_pred:', x_pred.shape)\n",
        "print('J_pred:', J_pred.shape)\n",
        "print('Q_pred:', Q_pred.shape)\n",
        "print('y_pred:', y_pred.shape)"
      ]
    },
    {
      "cell_type": "markdown",
      "source": [
        "### Note that you have to feed x_pred into CVXPY for comparison because you only care about x"
      ],
      "metadata": {
        "id": "-DeIvL8za_ss"
      }
    },
    {
      "cell_type": "code",
      "source": [
        "def base_solver(net_input, num_sce):\n",
        "\n",
        "    M = num_sce\n",
        "\n",
        "    v = cp.Variable((N-1,M))\n",
        "    y = cp.Variable((N, M))\n",
        "\n",
        "    constraints_list = []\n",
        "\n",
        "    ## for each scenario, there will be dual variables lambda_m, \n",
        "    ## mu_up_m, mu_lw_m of size (N, 1), (L, 1), (L, 1)\n",
        "    for m in range(M):\n",
        "        q_input = net_input + 0.25*np.random.randn(N, 1) # of same size as x\n",
        "        constraints_list.append( y[:,m:m+1] >= Yrr@v[:,m:m+1] + q_input )\n",
        "        \n",
        "    constraints_list.append( Arr@v <= Fmax*np.ones((num_lines, M)))\n",
        "    constraints_list.append( Arr@v >= -Fmax*np.ones((num_lines, M)))\n",
        "\n",
        "    constraints_list.append( v<=np.pi)\n",
        "    constraints_list.append( v>=-np.pi)\n",
        "    constraints_list.append( y>=0)\n",
        "\n",
        "    Q_vals = []\n",
        "    for m in range(M):\n",
        "\n",
        "        # total_cost += cp.quad_form(y[:,m:m+1], quad_cost_Coeff) + y[:,m:m+1].T@linear_cost_Coeff\n",
        "        Q_vals.append(y[:,m:m+1].T@linear_cost_Coeff)\n",
        "\n",
        "    Q_pred = cp.sum(Q_vals)/M\n",
        "\n",
        "    prob = cp.Problem(cp.Minimize( Q_pred ), constraints_list)\n",
        "\n",
        "    prob.solve(verbose = False, solver = cp.ECOS) ## Works!   \n",
        "\n",
        "    return prob.value, np.sum(y.value, axis=1)/M\n",
        "\n",
        "\n",
        "def benchmark_solver(test_set, x_pred, num_sce):\n",
        "\n",
        "    net_load = test_set - x_pred\n",
        "\n",
        "    num_points = net_load.shape[0]\n",
        "\n",
        "    Q_pred = []\n",
        "    y_pred = []\n",
        "    for i in range(num_points):\n",
        "        net_input = net_load[i,:].reshape(-1,1)\n",
        "\n",
        "        Q_value, y_value = base_solver(net_input, num_sce)\n",
        "\n",
        "        Q_pred.append(Q_value)\n",
        "        y_pred.append(y_value.flatten())\n",
        "\n",
        "    Q_pred = np.array(Q_pred).reshape(-1,1)\n",
        "    y_pred = np.array(y_pred)\n",
        "\n",
        "    # total_cost_pred = Q_pred.reshape(-1, 1)+x_pred@da_cost_Coeff\n",
        "    total_cost_pred = x_pred@da_cost_Coeff\n",
        "    print('total_cost_pred:', total_cost_pred.shape)\n",
        "\n",
        "    return total_cost_pred, Q_pred, y_pred"
      ],
      "metadata": {
        "id": "9ZRTlr8tbJTX"
      },
      "execution_count": 60,
      "outputs": []
    },
    {
      "cell_type": "code",
      "source": [
        "total_cost_pred, Q_pred, y_pred = benchmark_solver(test_dataset, x_pred, 100)\n",
        "print('total_cost_pred:', total_cost_pred.shape)"
      ],
      "metadata": {
        "colab": {
          "base_uri": "https://localhost:8080/"
        },
        "id": "exSnAUwpc8me",
        "outputId": "ef546d8a-af86-4c72-dd1a-4e01722af977"
      },
      "execution_count": 61,
      "outputs": [
        {
          "output_type": "stream",
          "name": "stdout",
          "text": [
            "total_cost_pred: (100, 1)\n",
            "total_cost_pred: (100, 1)\n"
          ]
        }
      ]
    },
    {
      "cell_type": "code",
      "source": [
        "np.save(saved_path+'x_pred.npy', x_pred)\n",
        "np.save(saved_path+'total_cost_pred.npy', total_cost_pred)\n",
        "np.save(saved_path+'Q_pred.npy', Q_pred)\n",
        "np.save(saved_path+'y_pred.npy', y_pred)"
      ],
      "metadata": {
        "id": "zHSE1n8oRYHj"
      },
      "execution_count": 62,
      "outputs": []
    },
    {
      "cell_type": "markdown",
      "metadata": {
        "id": "qqopTZqiyo4w"
      },
      "source": [
        "## Use CVXPY to solve this two-stage stochastic program as benchmark"
      ]
    },
    {
      "cell_type": "code",
      "execution_count": 63,
      "metadata": {
        "id": "VQ5CTCN7xPYi"
      },
      "outputs": [],
      "source": [
        "def solve_dispatch_scenarios(forecast, num_sce):\n",
        "    '''\n",
        "    scenarios should be of size (N, M)\n",
        "\n",
        "    '''\n",
        "    M = num_sce\n",
        "\n",
        "    x = cp.Variable((N, 1))\n",
        "    v = cp.Variable((N-1,M))\n",
        "    y = cp.Variable((N, M))\n",
        "\n",
        "    constraints_list = []\n",
        "\n",
        "    ## for each scenario, there will be dual variables lambda_m, \n",
        "    ## mu_up_m, mu_lw_m of size (N, 1), (L, 1), (L, 1)\n",
        "    net_input = forecast - x\n",
        "    for m in range(M):\n",
        "        q_input = net_input + 0.25*np.random.randn(N, 1) # of same size as x\n",
        "        constraints_list.append( y[:,m:m+1] >= Yrr@v[:,m:m+1] + q_input )\n",
        "        \n",
        "    constraints_list.append( Arr@v <= Fmax*np.ones((num_lines, M)))\n",
        "    constraints_list.append( Arr@v >= -Fmax*np.ones((num_lines, M)))\n",
        "\n",
        "    constraints_list.append( v<=np.pi)\n",
        "    constraints_list.append( v>=-np.pi)\n",
        "    constraints_list.append( x>=0)\n",
        "    constraints_list.append( y>=0)\n",
        "\n",
        "    Q_vals = []\n",
        "    for m in range(M):\n",
        "\n",
        "        # total_cost += cp.quad_form(y[:,m:m+1], quad_cost_Coeff) + y[:,m:m+1].T@linear_cost_Coeff\n",
        "        Q_vals.append(y[:,m:m+1].T@linear_cost_Coeff)\n",
        "\n",
        "    Q_pred = cp.sum(Q_vals)/M\n",
        "    prob = cp.Problem(cp.Minimize( da_cost_Coeff.T@x + Q_pred ), constraints_list)\n",
        "\n",
        "    # result =  prob.solve()\n",
        "    # prob.solve(verbose = True, solver = cp.ECOS) ## Works!   \n",
        "    prob.solve(verbose = False, solver = cp.ECOS) ## Works!   \n",
        "\n",
        "    return x.value.T, prob.value, Q_pred.value, np.sum(y.value, axis=1)/M\n",
        "\n",
        "\n",
        "def solve_dispatch(forecasts, num_sce):\n",
        "    '''\n",
        "        Provided a forecast and yield the value of x.\n",
        "        In order to calculate x, also need to provide a set of future/real-time\n",
        "        scenarios.\n",
        "        Collect these future/real-time scenarios into experiences.\n",
        "        experiences = [forecast(M copies), disrupt(M size), x(M copies), dcopf primal solution, dual solution]\n",
        "\n",
        "\n",
        "    '''\n",
        "    num_points = forecasts.shape[0]\n",
        "\n",
        "    x_vals = []\n",
        "    total_cost_vals = []\n",
        "    Q_vals = []\n",
        "    y_vals = []\n",
        "\n",
        "\n",
        "    for it in range(num_points):\n",
        "\n",
        "        forecast = forecasts[it,:].reshape(-1,1)\n",
        "\n",
        "        ## provide this set of scenarios and decide the value of x\n",
        "        x_value, prob_value, Q_value, y_value = solve_dispatch_scenarios(forecast, num_sce)\n",
        "    \n",
        "        x_vals.append(x_value.flatten())\n",
        "        total_cost_vals.append(prob_value)\n",
        "        Q_vals.append(Q_value)\n",
        "\n",
        "        y_vals.append(y_value.flatten())\n",
        "\n",
        "        # print(\"--- %s minutes ---\" % ((time.time() - start_time)/60))\n",
        "\n",
        "    x_vals = np.array(x_vals)\n",
        "    total_cost_vals = np.array(total_cost_vals).reshape(-1,1)\n",
        "    Q_vals = np.array(Q_vals).reshape(-1,1)\n",
        "\n",
        "    y_vals = np.array(y_vals)\n",
        "\n",
        "    return x_vals, total_cost_vals, Q_vals, y_vals\n"
      ]
    },
    {
      "cell_type": "code",
      "execution_count": 64,
      "metadata": {
        "colab": {
          "base_uri": "https://localhost:8080/"
        },
        "id": "hPKpcZTSyDes",
        "outputId": "f8a24f02-3be8-48f2-a06f-799219a44710"
      },
      "outputs": [
        {
          "output_type": "stream",
          "name": "stdout",
          "text": [
            "x_benchmark: (100, 118)\n",
            "total_cost_benchmark: (100, 1)\n",
            "Q_benchmark: (100, 1)\n",
            "y_benchmark: (100, 118)\n"
          ]
        }
      ],
      "source": [
        "x_labels, total_cost_labels, Q_labels, y_labels = solve_dispatch(test_dataset, num_sce=100)\n",
        "\n",
        "print('x_benchmark:', x_labels.shape)\n",
        "print('total_cost_benchmark:', total_cost_labels.shape)\n",
        "print('Q_benchmark:', Q_labels.shape)\n",
        "print('y_benchmark:', y_labels.shape)"
      ]
    },
    {
      "cell_type": "code",
      "source": [
        "np.save(saved_path+'x_labels.npy', x_labels)\n",
        "np.save(saved_path+'total_cost_labels.npy', total_cost_labels)\n",
        "np.save(saved_path+'Q_labels.npy', Q_labels)\n",
        "np.save(saved_path+'y_labels.npy', y_labels)"
      ],
      "metadata": {
        "id": "5Ob_Mra6RJz0"
      },
      "execution_count": 65,
      "outputs": []
    },
    {
      "cell_type": "markdown",
      "metadata": {
        "id": "m6DPOlCmyvb_"
      },
      "source": [
        "## Compare proposed algorithm against benchmark"
      ]
    },
    {
      "cell_type": "markdown",
      "metadata": {
        "id": "Ad9aVppey0Bw"
      },
      "source": [
        "### Calculate relative distance between vectors for x, J and Q"
      ]
    },
    {
      "cell_type": "code",
      "execution_count": 66,
      "metadata": {
        "colab": {
          "base_uri": "https://localhost:8080/"
        },
        "id": "K9pFLMZbyzf4",
        "outputId": "6ba491ff-5d7d-4471-9d80-64733abcd299"
      },
      "outputs": [
        {
          "output_type": "stream",
          "name": "stdout",
          "text": [
            "Averaged relative error in x is 18.46%\n",
            "Averaged relative error in total_cost is 3.70%\n",
            "Averaged relative error in Q is 34.06%\n"
          ]
        }
      ],
      "source": [
        "x_dist = measure_relative_distance(x_labels, x_pred)\n",
        "total_cost_dist = measure_relative_distance(total_cost_labels, total_cost_pred)\n",
        "Q_dist = measure_relative_distance(Q_labels, Q_pred)\n",
        "\n",
        "print('Averaged relative error in x is %.2f%%' % (x_dist*100))\n",
        "print('Averaged relative error in total_cost is %.2f%%' % (total_cost_dist*100))\n",
        "print('Averaged relative error in Q is %.2f%%' % (Q_dist*100))"
      ]
    },
    {
      "cell_type": "markdown",
      "metadata": {
        "id": "83BG5oQ02Omm"
      },
      "source": [
        "### Plot"
      ]
    },
    {
      "cell_type": "code",
      "execution_count": 67,
      "metadata": {
        "colab": {
          "base_uri": "https://localhost:8080/",
          "height": 340
        },
        "id": "gKNATT-A15jx",
        "outputId": "4aa53717-aa5c-4ac4-86e5-f2ea989942a3"
      },
      "outputs": [
        {
          "output_type": "display_data",
          "data": {
            "text/plain": [
              "<Figure size 3600x720 with 3 Axes>"
            ],
            "image/png": "[encoded data removed]"
          },
          "metadata": {
            "needs_background": "light"
          }
        }
      ],
      "source": [
        "fig = plt.figure(figsize=(50,10))\n",
        "\n",
        "plt.subplot(3, 1, 1)\n",
        "plt.plot(range(1, N+1), test_dataset[9,:], 'r-*', markersize=10, label='scenario')\n",
        "plt.plot(range(1, N+1), x_pred[9,:], 'b-s', markersize=10, label='x nn')\n",
        "plt.bar(range(1, N+1), x_labels[9,:], width = 0.4, color ='maroon',label='x cvxpy')\n",
        "\n",
        "plt.legend(fontsize=24)\n",
        "plt.xlabel('Buses', fontsize=24)\n",
        "plt.xticks(fontsize=24)\n",
        "plt.yticks(fontsize=24)\n",
        "\n",
        "plt.subplot(3, 1, 2)\n",
        "plt.plot(range(100), total_cost_pred.flatten()[:100], 'b-s', markersize=10, label='total_cost nn')\n",
        "plt.bar(range(100), total_cost_labels.flatten()[:100], width = 0.4, color ='maroon',label='total_cost cvxpy')\n",
        "\n",
        "plt.legend(fontsize=24)\n",
        "plt.xlabel('Buses', fontsize=24)\n",
        "plt.xticks(fontsize=24)\n",
        "plt.yticks(fontsize=24)\n",
        "\n",
        "c_nn = x_pred@da_cost_Coeff\n",
        "c_cvxpy = x_labels@da_cost_Coeff\n",
        "\n",
        "plt.subplot(3, 1, 3)\n",
        "plt.plot(range(100), c_nn.flatten()[:100], 'b-s', markersize=10, label='c nn')\n",
        "plt.bar(range(100), c_cvxpy.flatten()[:100], width = 0.4, color ='maroon',label='c cvxpy')\n",
        "\n",
        "plt.legend(fontsize=24)\n",
        "plt.xlabel('Buses', fontsize=24)\n",
        "plt.xticks(fontsize=24)\n",
        "plt.yticks(fontsize=24)\n",
        "plt.show()"
      ]
    },
    {
      "cell_type": "code",
      "execution_count": 68,
      "metadata": {
        "colab": {
          "base_uri": "https://localhost:8080/",
          "height": 341
        },
        "id": "cr4eNTkY7EH_",
        "outputId": "c72ea3be-caef-4d8f-ba92-1d6d2e7488a6"
      },
      "outputs": [
        {
          "output_type": "display_data",
          "data": {
            "text/plain": [
              "<Figure size 3600x720 with 3 Axes>"
            ],
            "image/png": "[encoded data removed]"
          },
          "metadata": {
            "needs_background": "light"
          }
        }
      ],
      "source": [
        "fig = plt.figure(figsize=(50,10))\n",
        "\n",
        "plt.subplot(3, 1, 1)\n",
        "plt.plot(range(1, N+1), y_pred[9,:], 'b-s', markersize=10, label='y nn')\n",
        "plt.bar(range(1, N+1), y_labels[9,:], width = 0.4, color ='maroon',label='y cvxpy')\n",
        "\n",
        "plt.legend(fontsize=24)\n",
        "plt.xlabel('Buses', fontsize=24)\n",
        "plt.xticks(fontsize=24)\n",
        "plt.yticks(fontsize=24)\n",
        "\n",
        "plt.subplot(3, 1, 2)\n",
        "plt.plot(range(100), Q_pred.flatten()[:100], 'b-s', markersize=10, label='Q nn')\n",
        "plt.bar(range(100), Q_labels.flatten()[:100], width = 0.4, color ='maroon',label='Q cvxpy')\n",
        "\n",
        "plt.legend(fontsize=24)\n",
        "plt.xlabel('Buses', fontsize=24)\n",
        "plt.xticks(fontsize=24)\n",
        "plt.yticks(fontsize=24)\n",
        "\n",
        "Q_nn = y_pred@linear_cost_Coeff\n",
        "Q_cvxpy = y_labels@linear_cost_Coeff\n",
        "\n",
        "plt.subplot(3, 1, 3)\n",
        "plt.plot(range(100), Q_nn.flatten()[:100], 'b-s', markersize=10, label='Q nn')\n",
        "plt.bar(range(100), Q_cvxpy.flatten()[:100], width = 0.4, color ='maroon',label='Q cvxpy')\n",
        "\n",
        "plt.legend(fontsize=24)\n",
        "plt.xlabel('Buses', fontsize=24)\n",
        "plt.xticks(fontsize=24)\n",
        "plt.yticks(fontsize=24)\n",
        "\n",
        "plt.show()"
      ]
    },
    {
      "cell_type": "code",
      "source": [
        ""
      ],
      "metadata": {
        "id": "GoBdbixLEmyS"
      },
      "execution_count": null,
      "outputs": []
    }
  ],
  "metadata": {
    "accelerator": "GPU",
    "colab": {
      "collapsed_sections": [],
      "name": "v3_neural_policy_118bus_continue_tuning.ipynb",
      "provenance": [],
      "toc_visible": true,
      "authorship_tag": "ABX9TyOYJLYqEYb4uMrnHtc567Cn",
      "include_colab_link": true
    },
    "gpuClass": "standard",
    "kernelspec": {
      "display_name": "Python 3",
      "name": "python3"
    },
    "language_info": {
      "name": "python"
    }
  },
  "nbformat": 4,
  "nbformat_minor": 0
}